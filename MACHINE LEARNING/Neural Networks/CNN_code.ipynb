{
  "cells": [
    {
      "cell_type": "code",
      "execution_count": 121,
      "metadata": {
        "id": "p5dL4YeVorzV"
      },
      "outputs": [],
      "source": [
        "import numpy as np\n",
        "import torch\n",
        "from torch import nn\n",
        "import tqdm\n",
        "import time"
      ]
    },
    {
      "cell_type": "code",
      "execution_count": 122,
      "metadata": {
        "id": "skn2M3E2R7SO"
      },
      "outputs": [],
      "source": [
        "import torchvision\n",
        "import matplotlib.pyplot as plt\n",
        "%matplotlib inline\n",
        "from torch.utils.data import DataLoader, Subset\n",
        "from sklearn.model_selection import train_test_split\n"
      ]
    },
    {
      "cell_type": "code",
      "execution_count": 123,
      "metadata": {
        "colab": {
          "base_uri": "https://localhost:8080/"
        },
        "id": "TolFr7Pa4NMN",
        "outputId": "261d2e19-31f9-44e1-d8a5-0192871975c9"
      },
      "outputs": [
        {
          "output_type": "execute_result",
          "data": {
            "text/plain": [
              "False"
            ]
          },
          "metadata": {},
          "execution_count": 123
        }
      ],
      "source": [
        "torch.cuda.is_available()"
      ]
    },
    {
      "cell_type": "code",
      "execution_count": 124,
      "metadata": {
        "colab": {
          "base_uri": "https://localhost:8080/"
        },
        "id": "feGo1EKE4sRg",
        "outputId": "7d8871c5-ddbb-473c-c50a-bc3abe1699aa"
      },
      "outputs": [
        {
          "output_type": "stream",
          "name": "stdout",
          "text": [
            "num_train_batches = 106\n",
            "num_val_batches = 12\n",
            "num_test_batches = 40\n"
          ]
        }
      ],
      "source": [
        "## DATA PREPARATION\n",
        "# Use the following code to load and normalize the dataset for training and testing\n",
        "# It will downlad the dataset into data subfolder (change to your data folder name)\n",
        "train_dataset = torchvision.datasets.FashionMNIST('data/', train=True, download=True,\n",
        "                             transform=torchvision.transforms.Compose([\n",
        "                               torchvision.transforms.ToTensor(),\n",
        "                               torchvision.transforms.Normalize(\n",
        "                                 (0.1307,), (0.3081,))\n",
        "                             ]))\n",
        "\n",
        "test_dataset = torchvision.datasets.FashionMNIST('data/', train=False, download=True,\n",
        "                             transform=torchvision.transforms.Compose([\n",
        "                               torchvision.transforms.ToTensor(),\n",
        "                               torchvision.transforms.Normalize(\n",
        "                                 (0.1307,), (0.3081,))\n",
        "                             ]))\n",
        "\n",
        "\n",
        "\n",
        "# Use the following code to create a validation set of 10%\n",
        "train_indices, val_indices, _, _ = train_test_split(\n",
        "    range(len(train_dataset)),\n",
        "    train_dataset.targets,\n",
        "    stratify=train_dataset.targets,\n",
        "    test_size=0.1,\n",
        ")\n",
        "\n",
        "# Generate training and validation subsets based on indices\n",
        "train_split = Subset(train_dataset, train_indices)\n",
        "val_split = Subset(train_dataset, val_indices)\n",
        "\n",
        "\n",
        "# set batches sizes\n",
        "train_batch_size = 512 #Define train batch size\n",
        "test_batch_size  = 256 #Define test batch size (can be larger than train batch size)\n",
        "\n",
        "\n",
        "# Define dataloader objects that help to iterate over batches and samples for\n",
        "# training, validation and testing\n",
        "train_batches = DataLoader(train_split, batch_size=train_batch_size, shuffle=True)\n",
        "val_batches = DataLoader(val_split, batch_size=train_batch_size, shuffle=True)\n",
        "test_batches = DataLoader(test_dataset, batch_size=test_batch_size, shuffle=True)\n",
        "\n",
        "num_train_batches=len(train_batches)\n",
        "num_val_batches=len(val_batches)\n",
        "num_test_batches=len(test_batches)\n",
        "\n",
        "\n",
        "print(\"num_train_batches = \" + str(num_train_batches))\n",
        "print(\"num_val_batches = \" + str(num_val_batches))\n",
        "print(\"num_test_batches = \" + str(num_test_batches))\n",
        "\n",
        "\n",
        "# Sample code to visualize the first sample in first 16 batches\n",
        "# batch_num = 0\n",
        "# for train_features, train_labels in train_batches:\n",
        "\n",
        "#     if batch_num == 16:\n",
        "#         break    # break here\n",
        "\n",
        "#     batch_num = batch_num +1\n",
        "#     print(f\"Feature batch shape: {train_features.size()}\")\n",
        "#     print(f\"Labels batch shape: {train_labels.size()}\")\n",
        "\n",
        "#     img = train_features[0].squeeze()\n",
        "#     label = train_labels[0]\n",
        "#     plt.imshow(img, cmap=\"gray\")\n",
        "#     plt.show()\n",
        "#     print(f\"Label: {label}\")\n",
        "\n",
        "\n",
        "\n",
        "# Sample code to plot N^2 images from the dataset\n",
        "# def plot_images(XX, N, title):\n",
        "#     fig, ax = plt.subplots(N, N, figsize=(8, 8))\n",
        "\n",
        "#     for i in range(N):\n",
        "#       for j in range(N):\n",
        "#         ax[i,j].imshow(XX[(N)*i+j], cmap=\"Greys\")\n",
        "#         ax[i,j].axis(\"off\")\n",
        "#     fig.suptitle(title, fontsize=24)\n",
        "\n",
        "# plot_images(train_dataset.data[:64], 8, \"First 64 Training Images\" )"
      ]
    },
    {
      "cell_type": "code",
      "source": [
        "# for train_features in train_batches:\n",
        "#     print(train_features[0][511].shape)"
      ],
      "metadata": {
        "id": "YvctCPajVpum"
      },
      "execution_count": 125,
      "outputs": []
    },
    {
      "cell_type": "code",
      "execution_count": 126,
      "metadata": {
        "id": "DECraaMNgdjY"
      },
      "outputs": [],
      "source": [
        "## Function to vary the number of training batches based on batch size\n",
        "\n",
        "def data_loader(train_batch_size, test_batch_size):\n",
        "    # Define dataloader objects that help to iterate over batches and samples for\n",
        "    # training, validation and testing\n",
        "    train_batches = DataLoader(train_split, batch_size=train_batch_size, shuffle=True)\n",
        "    val_batches = DataLoader(val_split, batch_size=train_batch_size, shuffle=True)\n",
        "    test_batches = DataLoader(test_dataset, batch_size=test_batch_size, shuffle=True)\n",
        "\n",
        "    num_train_batches=len(train_batches)\n",
        "    num_val_batches=len(val_batches)\n",
        "    num_test_batches=len(test_batches)\n",
        "\n",
        "\n",
        "    print(\"num_train_batches = \" + str(num_train_batches))\n",
        "    print(\"num_val_batches = \" + str(num_val_batches))\n",
        "    print(\"num_test_batches = \" + str(num_test_batches))\n",
        "\n",
        "    return train_batches, val_batches, test_batches, num_train_batches, num_val_batches, num_test_batches"
      ]
    },
    {
      "cell_type": "code",
      "execution_count": 127,
      "metadata": {
        "id": "HrvoPg1f7Gxu"
      },
      "outputs": [],
      "source": [
        "# ## MODEL DEFINITION (baseline)\n",
        "\n",
        "# class ACAIGFCN(nn.Module):\n",
        "\n",
        "#     #Initialize model layers, add additional arguments to adjust\n",
        "#     def __init__(self, input_dim, output_dim, hidden_dims):\n",
        "\n",
        "#         self.hidden_dims = hidden_dims\n",
        "#         super(ACAIGFCN, self).__init__()\n",
        "\n",
        "\n",
        "#         #Define the network layer(s) and activation function(s)\n",
        "\n",
        "#         self.input_layer = nn.Linear(input_dim, hidden_dims[0])\n",
        "\n",
        "#         self.hidden_layers = nn.ModuleList()\n",
        "#         for k in range(len(hidden_dims) - 1):\n",
        "#             self.hidden_layers.append(nn.Linear(hidden_dims[k], hidden_dims[k + 1]))\n",
        "\n",
        "#         self.output_layer = nn.Linear(hidden_dims[-1], output_dim)\n",
        "\n",
        "\n",
        "#     def forward(self, input):\n",
        "#         #Define how your model propagates the input through the network\n",
        "\n",
        "#         x = torch.nn.functional.relu(self.input_layer(input))\n",
        "\n",
        "#         for k in range(len(self.hidden_dims) - 1):\n",
        "#             x = torch.nn.functional.relu(self.hidden_layers[k](x))\n",
        "\n",
        "#         output = self.output_layer(x)\n",
        "\n",
        "\n",
        "\n",
        "#         return output"
      ]
    },
    {
      "cell_type": "code",
      "execution_count": 128,
      "metadata": {
        "id": "nVZAbT_cjQZF"
      },
      "outputs": [],
      "source": [
        "# ## PARAMETERS (baseline)\n",
        "# # Initialize neural network model with input, output and hidden layer dimensions\n",
        "# model = ACAIGFCN(input_dim = 784, output_dim = 10, hidden_dims = [400, 400]) # <--- <---\n",
        "# print(model)\n",
        "\n",
        "# # Define the learning rate and epochs number\n",
        "# learning_rate = 0.03 # <---\n",
        "# epochs = 40 # <---\n",
        "\n",
        "# # Define loss function  and optimizer\n",
        "# loss_func = torch.nn.CrossEntropyLoss() # Use Cross Entropy loss from torch.nn\n",
        "# optimizer = torch.optim.SGD(model.parameters(), lr = learning_rate) # <--- Use optimizers from torch.optim\n",
        "\n",
        "# ## Re-adjust number of training batches\n",
        "# # set batch sizes\n",
        "# train_batch_size = 512 # <--- Define train batch size\n",
        "# test_batch_size  = 256 #Define test batch size (can be larger than train batch size)\n",
        "\n",
        "# train_batches, val_batches, test_batches, num_train_batches, num_val_batches, num_test_batches = data_loader(train_batch_size, test_batch_size)\n",
        "\n",
        "# # Identify tracked values\n",
        "# train_loss_list = np.zeros((epochs,))\n",
        "# validation_accuracy_list = np.zeros((epochs,))\n",
        "\n",
        "# # For PyTorch GPU version\n",
        "# if torch.cuda.is_available():\n",
        "#   model.cuda()"
      ]
    },
    {
      "cell_type": "code",
      "execution_count": 129,
      "metadata": {
        "id": "IEpbQvmJhiXA"
      },
      "outputs": [],
      "source": [
        "## MODEL DEFINITION (FCN)\n",
        "\n",
        "class ACAIGFCN(nn.Module):\n",
        "\n",
        "    #Initialize model layers, add additional arguments to adjust\n",
        "    def __init__(self, input_dim, output_dim, hidden_dims, dropout):\n",
        "\n",
        "        self.hidden_dims = hidden_dims\n",
        "        super(ACAIGFCN, self).__init__()\n",
        "\n",
        "\n",
        "        #Define the network layer(s) and activation function(s)\n",
        "\n",
        "        self.input_layer = nn.Linear(input_dim, hidden_dims[0])\n",
        "\n",
        "        self.dropout_after_input = nn.Dropout(dropout)\n",
        "        print(dropout)\n",
        "\n",
        "        self.hidden_layers = nn.ModuleList()\n",
        "        self.dropouts = nn.ModuleList()\n",
        "        for k in range(len(hidden_dims) - 1):\n",
        "            self.hidden_layers.append(nn.Linear(hidden_dims[k], hidden_dims[k + 1]))\n",
        "            self.dropouts.append(nn.Dropout(dropout))\n",
        "\n",
        "        self.output_layer = nn.Linear(hidden_dims[-1], output_dim)\n",
        "\n",
        "\n",
        "    def forward(self, input):\n",
        "        #Define how your model propagates the input through the network\n",
        "\n",
        "        x = torch.nn.functional.relu(self.input_layer(input))\n",
        "\n",
        "        x = self.dropout_after_input(x)\n",
        "\n",
        "        for k in range(len(self.hidden_dims) - 1):\n",
        "            x = torch.nn.functional.relu(self.hidden_layers[k](x))\n",
        "\n",
        "            x = self.dropouts[k](x)\n",
        "\n",
        "        output = self.output_layer(x)\n",
        "\n",
        "\n",
        "\n",
        "        return output"
      ]
    },
    {
      "cell_type": "code",
      "source": [
        "# ## CNN MODEL Definition\n",
        "\n",
        "# class CNNModel(torch.nn.Module):\n",
        "\n",
        "#     def __init__(self):\n",
        "\n",
        "#         super(CNNModel, self).__init__()\n",
        "\n",
        "#         self.cnn1 = torch.nn.Conv1d(in_channels = 512, out_channels = 1, kernel_size=5, stride=1, padding=2)\n",
        "\n",
        "#         self.avgpool1 = torch.nn.AvgPool1d(kernel_size=2)\n",
        "\n",
        "#         self.cnn2 = torch.nn.Conv1d(in_channels=1, out_channels=512, kernel_size=5, stride=1, padding=2)\n",
        "\n",
        "#         self.avgpool2 = torch.nn.AvgPool1d(kernel_size=2)\n",
        "\n",
        "#         self.fc1 = torch.nn.Linear(196, 10)\n",
        "\n",
        "\n",
        "#     def forward(self, input):\n",
        "\n",
        "#         x = self.cnn1(input)\n",
        "\n",
        "#         x = self.avgpool1(x)\n",
        "\n",
        "#         x = self.cnn2(x)\n",
        "\n",
        "#         x = self.avgpool2(x)\n",
        "\n",
        "#         x = self.fc1(x)\n",
        "\n",
        "#         output = torch.nn.functional.relu(x)\n",
        "\n",
        "#         return output"
      ],
      "metadata": {
        "id": "OaeUYqfuKKi3"
      },
      "execution_count": 130,
      "outputs": []
    },
    {
      "cell_type": "code",
      "source": [
        "## CNN MODEL Definition (2D convolution)\n",
        "\n",
        "class CNNModel(torch.nn.Module):\n",
        "\n",
        "    def __init__(self, cnn_num_filters):\n",
        "\n",
        "        super(CNNModel, self).__init__()\n",
        "\n",
        "        self.cnn1 = torch.nn.Conv2d(in_channels = 1, out_channels = cnn_num_filters, kernel_size=5, stride=1, padding=2)\n",
        "\n",
        "        self.avgpool1 = torch.nn.AvgPool2d(kernel_size=2)\n",
        "\n",
        "        self.cnn2 = torch.nn.Conv2d(in_channels=cnn_num_filters, out_channels=32, kernel_size=5, stride=1, padding=2)\n",
        "\n",
        "        self.avgpool2 = torch.nn.AvgPool2d(kernel_size=2)\n",
        "\n",
        "        self.fc1 = torch.nn.Linear(7, 10)\n",
        "\n",
        "\n",
        "    def forward(self, input):\n",
        "\n",
        "        x = self.cnn1(input)\n",
        "\n",
        "        x = self.avgpool1(x)\n",
        "\n",
        "        x = self.cnn2(x)\n",
        "\n",
        "        x = self.avgpool2(x)\n",
        "\n",
        "        x = self.fc1(x)\n",
        "\n",
        "        output = torch.nn.functional.relu(x)\n",
        "\n",
        "        return output"
      ],
      "metadata": {
        "id": "5RL0SQ5PmSS2"
      },
      "execution_count": 131,
      "outputs": []
    },
    {
      "cell_type": "code",
      "source": [
        "## DEFINE INITIALIZATION of WEIGHTS\n",
        "\n",
        "# def init_weights(m):\n",
        "#     if type(m) == nn.Linear:\n",
        "#         torch.nn.init.normal(m.weight)"
      ],
      "metadata": {
        "id": "FHfr--dRWUUc"
      },
      "execution_count": 132,
      "outputs": []
    },
    {
      "cell_type": "code",
      "execution_count": 133,
      "metadata": {
        "colab": {
          "base_uri": "https://localhost:8080/"
        },
        "id": "0F_DyktW8Bgw",
        "outputId": "42263a98-f186-4282-e6e1-a2889b39faa7"
      },
      "outputs": [
        {
          "output_type": "stream",
          "name": "stdout",
          "text": [
            "0.2\n",
            "ACAIGFCN(\n",
            "  (input_layer): Linear(in_features=784, out_features=158, bias=True)\n",
            "  (dropout_after_input): Dropout(p=0.2, inplace=False)\n",
            "  (hidden_layers): ModuleList(\n",
            "    (0): Linear(in_features=158, out_features=158, bias=True)\n",
            "  )\n",
            "  (dropouts): ModuleList(\n",
            "    (0): Dropout(p=0.2, inplace=False)\n",
            "  )\n",
            "  (output_layer): Linear(in_features=158, out_features=10, bias=True)\n",
            ")\n",
            "num_train_batches = 106\n",
            "num_val_batches = 12\n",
            "num_test_batches = 40\n"
          ]
        }
      ],
      "source": [
        "## PARAMETERS (FCN)\n",
        "neuron_layers = [158, 158] # <---\n",
        "dropout_p = 0.2 # <---\n",
        "\n",
        "# Initialize neural network model with input, output and hidden layer dimensions\n",
        "model = ACAIGFCN(input_dim = 784, output_dim = 10, hidden_dims = neuron_layers, dropout = dropout_p)\n",
        "print(model)\n",
        "\n",
        "# Define the learning rate and epochs number\n",
        "learning_rate = 0.001 # <---\n",
        "epochs = 40 # <---\n",
        "\n",
        "# Define loss function  and optimizer\n",
        "loss_func = torch.nn.CrossEntropyLoss() # Use Cross Entropy loss from torch.nn\n",
        "optimizer = torch.optim.Adam(model.parameters(), lr = learning_rate) # <--- Use optimizers from torch.optim\n",
        "\n",
        "# Initialize weights of all FCN layers\n",
        "# model.apply(init_weights)\n",
        "\n",
        "## Re-adjust number of training batches\n",
        "# set batch sizes\n",
        "train_batch_size = 512 # <--- Define train batch size\n",
        "test_batch_size  = 256 # Define test batch size (can be larger than train batch size)\n",
        "\n",
        "train_batches, val_batches, test_batches, num_train_batches, num_val_batches, num_test_batches = data_loader(train_batch_size, test_batch_size)\n",
        "\n",
        "# Identify tracked values\n",
        "train_loss_list = np.zeros((epochs,))\n",
        "validation_accuracy_list = np.zeros((epochs,))\n",
        "\n",
        "# For PyTorch GPU version\n",
        "if torch.cuda.is_available():\n",
        "    model.cuda()"
      ]
    },
    {
      "cell_type": "code",
      "source": [
        "## PARAMETERS (CNN)\n",
        "cnn_num_filters = 4 # <---\n",
        "# dropout_p = 0.2 # <---\n",
        "\n",
        "# Initialize neural network model with input, output and hidden layer dimensions\n",
        "cnn_model = CNNModel(cnn_num_filters)\n",
        "print(cnn_model)\n",
        "\n",
        "# Define the learning rate and epochs number\n",
        "learning_rate = 0.001 # <---\n",
        "epochs = 40 # <---\n",
        "\n",
        "# Define loss function  and optimizer\n",
        "loss_func = torch.nn.CrossEntropyLoss() # Use Cross Entropy loss from torch.nn\n",
        "optimizer = torch.optim.Adam(cnn_model.parameters(), lr = learning_rate) # <--- Use optimizers from torch.optim\n",
        "\n",
        "# Initialize weights of all FCN layers\n",
        "# model.apply(init_weights)\n",
        "\n",
        "## Re-adjust number of training batches\n",
        "# set batch sizes\n",
        "train_batch_size = 512 # <--- Define train batch size\n",
        "test_batch_size  = 256 # Define test batch size (can be larger than train batch size)\n",
        "\n",
        "train_batches, val_batches, test_batches, num_train_batches, num_val_batches, num_test_batches = data_loader(train_batch_size, test_batch_size)\n",
        "\n",
        "# Identify tracked values\n",
        "train_loss_list = np.zeros((epochs,))\n",
        "validation_accuracy_list = np.zeros((epochs,))\n",
        "\n",
        "# For PyTorch GPU version\n",
        "if torch.cuda.is_available():\n",
        "    model.cuda()"
      ],
      "metadata": {
        "colab": {
          "base_uri": "https://localhost:8080/"
        },
        "id": "oGj3fWajojgj",
        "outputId": "5ac137e0-d0ab-463b-bc7d-d2260483696b"
      },
      "execution_count": 149,
      "outputs": [
        {
          "output_type": "stream",
          "name": "stdout",
          "text": [
            "CNNModel(\n",
            "  (cnn1): Conv2d(1, 4, kernel_size=(5, 5), stride=(1, 1), padding=(2, 2))\n",
            "  (avgpool1): AvgPool2d(kernel_size=2, stride=2, padding=0)\n",
            "  (cnn2): Conv2d(4, 32, kernel_size=(5, 5), stride=(1, 1), padding=(2, 2))\n",
            "  (avgpool2): AvgPool2d(kernel_size=2, stride=2, padding=0)\n",
            "  (fc1): Linear(in_features=7, out_features=10, bias=True)\n",
            ")\n",
            "num_train_batches = 106\n",
            "num_val_batches = 12\n",
            "num_test_batches = 40\n"
          ]
        }
      ]
    },
    {
      "cell_type": "code",
      "execution_count": 109,
      "metadata": {
        "colab": {
          "base_uri": "https://localhost:8080/"
        },
        "id": "agRJKta_6M1G",
        "outputId": "c5fe8e6a-42ea-46e5-900c-7f01a48feb34"
      },
      "outputs": [
        {
          "output_type": "stream",
          "name": "stderr",
          "text": [
            "  2%|▎         | 1/40 [00:13<09:04, 13.96s/it]"
          ]
        },
        {
          "output_type": "stream",
          "name": "stdout",
          "text": [
            "Epoch: 0\n",
            "Training Loss:0.71\n",
            "Validation Accuracy:84.22%\n"
          ]
        },
        {
          "output_type": "stream",
          "name": "stderr",
          "text": [
            "\r  5%|▌         | 2/40 [00:27<08:45, 13.82s/it]"
          ]
        },
        {
          "output_type": "stream",
          "name": "stdout",
          "text": [
            "Epoch: 1\n",
            "Training Loss:0.43\n",
            "Validation Accuracy:86.09%\n"
          ]
        },
        {
          "output_type": "stream",
          "name": "stderr",
          "text": [
            "\r  8%|▊         | 3/40 [00:41<08:29, 13.78s/it]"
          ]
        },
        {
          "output_type": "stream",
          "name": "stdout",
          "text": [
            "Epoch: 2\n",
            "Training Loss:0.38\n",
            "Validation Accuracy:87.21%\n"
          ]
        },
        {
          "output_type": "stream",
          "name": "stderr",
          "text": [
            "\r 10%|█         | 4/40 [00:55<08:15, 13.77s/it]"
          ]
        },
        {
          "output_type": "stream",
          "name": "stdout",
          "text": [
            "Epoch: 3\n",
            "Training Loss:0.36\n",
            "Validation Accuracy:87.97%\n"
          ]
        },
        {
          "output_type": "stream",
          "name": "stderr",
          "text": [
            "\r 12%|█▎        | 5/40 [01:08<08:01, 13.76s/it]"
          ]
        },
        {
          "output_type": "stream",
          "name": "stdout",
          "text": [
            "Epoch: 4\n",
            "Training Loss:0.34\n",
            "Validation Accuracy:87.75%\n"
          ]
        },
        {
          "output_type": "stream",
          "name": "stderr",
          "text": [
            "\r 15%|█▌        | 6/40 [01:22<07:46, 13.72s/it]"
          ]
        },
        {
          "output_type": "stream",
          "name": "stdout",
          "text": [
            "Epoch: 5\n",
            "Training Loss:0.32\n",
            "Validation Accuracy:88.19%\n"
          ]
        },
        {
          "output_type": "stream",
          "name": "stderr",
          "text": [
            "\r 18%|█▊        | 7/40 [01:36<07:32, 13.71s/it]"
          ]
        },
        {
          "output_type": "stream",
          "name": "stdout",
          "text": [
            "Epoch: 6\n",
            "Training Loss:0.31\n",
            "Validation Accuracy:88.67%\n"
          ]
        },
        {
          "output_type": "stream",
          "name": "stderr",
          "text": [
            "\r 20%|██        | 8/40 [01:50<07:19, 13.74s/it]"
          ]
        },
        {
          "output_type": "stream",
          "name": "stdout",
          "text": [
            "Epoch: 7\n",
            "Training Loss:0.3\n",
            "Validation Accuracy:88.59%\n"
          ]
        },
        {
          "output_type": "stream",
          "name": "stderr",
          "text": [
            "\r 22%|██▎       | 9/40 [02:03<07:07, 13.79s/it]"
          ]
        },
        {
          "output_type": "stream",
          "name": "stdout",
          "text": [
            "Epoch: 8\n",
            "Training Loss:0.29\n",
            "Validation Accuracy:88.99%\n"
          ]
        },
        {
          "output_type": "stream",
          "name": "stderr",
          "text": [
            "\r 25%|██▌       | 10/40 [02:17<06:55, 13.84s/it]"
          ]
        },
        {
          "output_type": "stream",
          "name": "stdout",
          "text": [
            "Epoch: 9\n",
            "Training Loss:0.28\n",
            "Validation Accuracy:88.75%\n"
          ]
        },
        {
          "output_type": "stream",
          "name": "stderr",
          "text": [
            "\r 28%|██▊       | 11/40 [02:31<06:41, 13.84s/it]"
          ]
        },
        {
          "output_type": "stream",
          "name": "stdout",
          "text": [
            "Epoch: 10\n",
            "Training Loss:0.27\n",
            "Validation Accuracy:89.03%\n"
          ]
        },
        {
          "output_type": "stream",
          "name": "stderr",
          "text": [
            "\r 30%|███       | 12/40 [02:45<06:27, 13.83s/it]"
          ]
        },
        {
          "output_type": "stream",
          "name": "stdout",
          "text": [
            "Epoch: 11\n",
            "Training Loss:0.27\n",
            "Validation Accuracy:88.8%\n"
          ]
        },
        {
          "output_type": "stream",
          "name": "stderr",
          "text": [
            "\r 32%|███▎      | 13/40 [02:59<06:13, 13.82s/it]"
          ]
        },
        {
          "output_type": "stream",
          "name": "stdout",
          "text": [
            "Epoch: 12\n",
            "Training Loss:0.26\n",
            "Validation Accuracy:89.31%\n"
          ]
        },
        {
          "output_type": "stream",
          "name": "stderr",
          "text": [
            "\r 35%|███▌      | 14/40 [03:13<06:00, 13.88s/it]"
          ]
        },
        {
          "output_type": "stream",
          "name": "stdout",
          "text": [
            "Epoch: 13\n",
            "Training Loss:0.25\n",
            "Validation Accuracy:89.32%\n"
          ]
        },
        {
          "output_type": "stream",
          "name": "stderr",
          "text": [
            "\r 38%|███▊      | 15/40 [03:27<05:47, 13.88s/it]"
          ]
        },
        {
          "output_type": "stream",
          "name": "stdout",
          "text": [
            "Epoch: 14\n",
            "Training Loss:0.25\n",
            "Validation Accuracy:89.6%\n"
          ]
        },
        {
          "output_type": "stream",
          "name": "stderr",
          "text": [
            "\r 40%|████      | 16/40 [03:41<05:32, 13.87s/it]"
          ]
        },
        {
          "output_type": "stream",
          "name": "stdout",
          "text": [
            "Epoch: 15\n",
            "Training Loss:0.25\n",
            "Validation Accuracy:89.7%\n"
          ]
        },
        {
          "output_type": "stream",
          "name": "stderr",
          "text": [
            "\r 42%|████▎     | 17/40 [03:54<05:18, 13.84s/it]"
          ]
        },
        {
          "output_type": "stream",
          "name": "stdout",
          "text": [
            "Epoch: 16\n",
            "Training Loss:0.24\n",
            "Validation Accuracy:89.68%\n"
          ]
        },
        {
          "output_type": "stream",
          "name": "stderr",
          "text": [
            "\r 45%|████▌     | 18/40 [04:08<05:04, 13.82s/it]"
          ]
        },
        {
          "output_type": "stream",
          "name": "stdout",
          "text": [
            "Epoch: 17\n",
            "Training Loss:0.24\n",
            "Validation Accuracy:89.65%\n"
          ]
        },
        {
          "output_type": "stream",
          "name": "stderr",
          "text": [
            "\r 48%|████▊     | 19/40 [04:22<04:49, 13.80s/it]"
          ]
        },
        {
          "output_type": "stream",
          "name": "stdout",
          "text": [
            "Epoch: 18\n",
            "Training Loss:0.23\n",
            "Validation Accuracy:89.83%\n"
          ]
        },
        {
          "output_type": "stream",
          "name": "stderr",
          "text": [
            "\r 50%|█████     | 20/40 [04:36<04:36, 13.85s/it]"
          ]
        },
        {
          "output_type": "stream",
          "name": "stdout",
          "text": [
            "Epoch: 19\n",
            "Training Loss:0.23\n",
            "Validation Accuracy:89.66%\n"
          ]
        },
        {
          "output_type": "stream",
          "name": "stderr",
          "text": [
            "\r 52%|█████▎    | 21/40 [04:50<04:22, 13.83s/it]"
          ]
        },
        {
          "output_type": "stream",
          "name": "stdout",
          "text": [
            "Epoch: 20\n",
            "Training Loss:0.22\n",
            "Validation Accuracy:89.74%\n"
          ]
        },
        {
          "output_type": "stream",
          "name": "stderr",
          "text": [
            "\r 55%|█████▌    | 22/40 [05:03<04:08, 13.83s/it]"
          ]
        },
        {
          "output_type": "stream",
          "name": "stdout",
          "text": [
            "Epoch: 21\n",
            "Training Loss:0.22\n",
            "Validation Accuracy:89.63%\n"
          ]
        },
        {
          "output_type": "stream",
          "name": "stderr",
          "text": [
            "\r 57%|█████▊    | 23/40 [05:17<03:54, 13.81s/it]"
          ]
        },
        {
          "output_type": "stream",
          "name": "stdout",
          "text": [
            "Epoch: 22\n",
            "Training Loss:0.21\n",
            "Validation Accuracy:90.06%\n"
          ]
        },
        {
          "output_type": "stream",
          "name": "stderr",
          "text": [
            "\r 60%|██████    | 24/40 [05:31<03:40, 13.79s/it]"
          ]
        },
        {
          "output_type": "stream",
          "name": "stdout",
          "text": [
            "Epoch: 23\n",
            "Training Loss:0.21\n",
            "Validation Accuracy:90.25%\n"
          ]
        },
        {
          "output_type": "stream",
          "name": "stderr",
          "text": [
            "\r 62%|██████▎   | 25/40 [05:45<03:26, 13.78s/it]"
          ]
        },
        {
          "output_type": "stream",
          "name": "stdout",
          "text": [
            "Epoch: 24\n",
            "Training Loss:0.21\n",
            "Validation Accuracy:89.94%\n"
          ]
        },
        {
          "output_type": "stream",
          "name": "stderr",
          "text": [
            "\r 65%|██████▌   | 26/40 [05:59<03:13, 13.81s/it]"
          ]
        },
        {
          "output_type": "stream",
          "name": "stdout",
          "text": [
            "Epoch: 25\n",
            "Training Loss:0.2\n",
            "Validation Accuracy:90.07%\n"
          ]
        },
        {
          "output_type": "stream",
          "name": "stderr",
          "text": [
            "\r 68%|██████▊   | 27/40 [06:12<02:59, 13.82s/it]"
          ]
        },
        {
          "output_type": "stream",
          "name": "stdout",
          "text": [
            "Epoch: 26\n",
            "Training Loss:0.2\n",
            "Validation Accuracy:89.59%\n"
          ]
        },
        {
          "output_type": "stream",
          "name": "stderr",
          "text": [
            "\r 70%|███████   | 28/40 [06:26<02:45, 13.83s/it]"
          ]
        },
        {
          "output_type": "stream",
          "name": "stdout",
          "text": [
            "Epoch: 27\n",
            "Training Loss:0.2\n",
            "Validation Accuracy:89.95%\n"
          ]
        },
        {
          "output_type": "stream",
          "name": "stderr",
          "text": [
            "\r 72%|███████▎  | 29/40 [06:40<02:32, 13.82s/it]"
          ]
        },
        {
          "output_type": "stream",
          "name": "stdout",
          "text": [
            "Epoch: 28\n",
            "Training Loss:0.19\n",
            "Validation Accuracy:90.01%\n"
          ]
        },
        {
          "output_type": "stream",
          "name": "stderr",
          "text": [
            "\r 75%|███████▌  | 30/40 [06:54<02:17, 13.75s/it]"
          ]
        },
        {
          "output_type": "stream",
          "name": "stdout",
          "text": [
            "Epoch: 29\n",
            "Training Loss:0.19\n",
            "Validation Accuracy:90.21%\n"
          ]
        },
        {
          "output_type": "stream",
          "name": "stderr",
          "text": [
            "\r 78%|███████▊  | 31/40 [07:07<02:03, 13.72s/it]"
          ]
        },
        {
          "output_type": "stream",
          "name": "stdout",
          "text": [
            "Epoch: 30\n",
            "Training Loss:0.19\n",
            "Validation Accuracy:89.91%\n"
          ]
        },
        {
          "output_type": "stream",
          "name": "stderr",
          "text": [
            "\r 80%|████████  | 32/40 [07:21<01:49, 13.71s/it]"
          ]
        },
        {
          "output_type": "stream",
          "name": "stdout",
          "text": [
            "Epoch: 31\n",
            "Training Loss:0.19\n",
            "Validation Accuracy:89.9%\n"
          ]
        },
        {
          "output_type": "stream",
          "name": "stderr",
          "text": [
            "\r 82%|████████▎ | 33/40 [07:35<01:36, 13.78s/it]"
          ]
        },
        {
          "output_type": "stream",
          "name": "stdout",
          "text": [
            "Epoch: 32\n",
            "Training Loss:0.18\n",
            "Validation Accuracy:90.13%\n"
          ]
        },
        {
          "output_type": "stream",
          "name": "stderr",
          "text": [
            "\r 85%|████████▌ | 34/40 [07:49<01:22, 13.76s/it]"
          ]
        },
        {
          "output_type": "stream",
          "name": "stdout",
          "text": [
            "Epoch: 33\n",
            "Training Loss:0.18\n",
            "Validation Accuracy:90.03%\n"
          ]
        },
        {
          "output_type": "stream",
          "name": "stderr",
          "text": [
            "\r 88%|████████▊ | 35/40 [08:02<01:08, 13.77s/it]"
          ]
        },
        {
          "output_type": "stream",
          "name": "stdout",
          "text": [
            "Epoch: 34\n",
            "Training Loss:0.18\n",
            "Validation Accuracy:90.21%\n"
          ]
        },
        {
          "output_type": "stream",
          "name": "stderr",
          "text": [
            "\r 90%|█████████ | 36/40 [08:16<00:55, 13.83s/it]"
          ]
        },
        {
          "output_type": "stream",
          "name": "stdout",
          "text": [
            "Epoch: 35\n",
            "Training Loss:0.17\n",
            "Validation Accuracy:90.18%\n"
          ]
        },
        {
          "output_type": "stream",
          "name": "stderr",
          "text": [
            "\r 92%|█████████▎| 37/40 [08:30<00:41, 13.84s/it]"
          ]
        },
        {
          "output_type": "stream",
          "name": "stdout",
          "text": [
            "Epoch: 36\n",
            "Training Loss:0.17\n",
            "Validation Accuracy:90.14%\n"
          ]
        },
        {
          "output_type": "stream",
          "name": "stderr",
          "text": [
            "\r 95%|█████████▌| 38/40 [08:44<00:27, 13.86s/it]"
          ]
        },
        {
          "output_type": "stream",
          "name": "stdout",
          "text": [
            "Epoch: 37\n",
            "Training Loss:0.17\n",
            "Validation Accuracy:90.13%\n"
          ]
        },
        {
          "output_type": "stream",
          "name": "stderr",
          "text": [
            "\r 98%|█████████▊| 39/40 [08:58<00:13, 13.94s/it]"
          ]
        },
        {
          "output_type": "stream",
          "name": "stdout",
          "text": [
            "Epoch: 38\n",
            "Training Loss:0.17\n",
            "Validation Accuracy:89.98%\n"
          ]
        },
        {
          "output_type": "stream",
          "name": "stderr",
          "text": [
            "100%|██████████| 40/40 [09:12<00:00, 13.81s/it]"
          ]
        },
        {
          "output_type": "stream",
          "name": "stdout",
          "text": [
            "Epoch: 39\n",
            "Training Loss:0.17\n",
            "Validation Accuracy:90.1%\n"
          ]
        },
        {
          "output_type": "stream",
          "name": "stderr",
          "text": [
            "\n"
          ]
        }
      ],
      "source": [
        "## TRAIN FCN model\n",
        "\n",
        "# Re-initialize tracked values\n",
        "train_loss_list = np.zeros((epochs,))\n",
        "validation_accuracy_list = np.zeros((epochs,))\n",
        "\n",
        "\n",
        "start = time.time()\n",
        "\n",
        "# Iterate over epochs, batches with progress bar and train+ validate the ACAIGFCN\n",
        "# Track the loss and validation accuracy\n",
        "for epoch in tqdm.trange(epochs):\n",
        "\n",
        "    # ACAIGFCN Training\n",
        "    for train_features, train_labels in train_batches:\n",
        "\n",
        "        # Transfer data to GPU memory\n",
        "        if torch.cuda.is_available():\n",
        "          train_features = train_features.cuda()\n",
        "          train_labels = train_labels.cuda()\n",
        "\n",
        "        # Set model into training mode\n",
        "        model.train()\n",
        "\n",
        "        # Reshape images into a vector\n",
        "        train_features = train_features.reshape(-1, 28*28)\n",
        "\n",
        "        # Reset gradients, Calculate training loss on model\n",
        "        optimizer.zero_grad()\n",
        "        train_outputs = model(train_features)\n",
        "        # print(train_outputs.shape)\n",
        "        # print(train_labels.shape)\n",
        "        loss = loss_func(train_outputs, train_labels)\n",
        "        train_loss_list[epoch] += loss.item() / num_train_batches\n",
        "\n",
        "        # Perform optimization, back propagation\n",
        "        loss.backward()\n",
        "        optimizer.step()\n",
        "\n",
        "    # Record loss for the epoch (ALREADY DONE ABOVE)\n",
        "\n",
        "    # ACAIGFCN Validation\n",
        "    for val_features, val_labels in val_batches:\n",
        "\n",
        "        # Transfer data to GPU memory\n",
        "        if torch.cuda.is_available():\n",
        "          val_features = val_features.cuda()\n",
        "          val_labels = val_labels.cuda()\n",
        "\n",
        "        # Telling PyTorch we aren't passing inputs to network for training purpose\n",
        "        with torch.no_grad():\n",
        "            model.eval()\n",
        "\n",
        "            # Reshape validation images into a vector\n",
        "            val_features = val_features.reshape(-1, 28*28)\n",
        "\n",
        "            # Compute validation outputs (targets)\n",
        "            # and compute accuracy\n",
        "            val_outputs = model(val_features)\n",
        "            correct = (torch.argmax(val_outputs, dim = 1) == val_labels).type(torch.FloatTensor)\n",
        "            validation_accuracy_list[epoch] += correct.mean() / num_val_batches\n",
        "\n",
        "    # Record accuracy for the epoch; print training loss, validation accuracy\n",
        "    # print(\"Epoch: \"+ str(epoch) +\"; Validation Accuracy:\" + str(val_acc/num_val_batches*100) + '%')\n",
        "    print(\"Epoch: \"+ str(epoch))\n",
        "    print(\"Training Loss:\" + str(round(train_loss_list[epoch], 2)))\n",
        "    print(\"Validation Accuracy:\" + str(round(validation_accuracy_list[epoch] * 100, 2)) + '%')\n",
        "\n",
        "\n",
        "end = time.time()\n",
        "runtime = end - start"
      ]
    },
    {
      "cell_type": "code",
      "source": [
        "## Train CNN model\n",
        "\n",
        "# Re-initialize tracked values\n",
        "train_loss_list = np.zeros((epochs,))\n",
        "validation_accuracy_list = np.zeros((epochs,))\n",
        "\n",
        "\n",
        "\n",
        "start = time.time()\n",
        "\n",
        "# Iterate over epochs, batches with progress bar and train+ validate the ACAIGFCN\n",
        "# Track the loss and validation accuracy\n",
        "for epoch in tqdm.trange(epochs):\n",
        "\n",
        "    k = 1\n",
        "    # CNN Training\n",
        "    for train_features, train_labels in train_batches:\n",
        "\n",
        "        if k == num_train_batches:\n",
        "            break\n",
        "        k += 1\n",
        "\n",
        "        # Transfer data to GPU memory\n",
        "        if torch.cuda.is_available():\n",
        "          train_features = train_features.cuda()\n",
        "          train_labels = train_labels.cuda()\n",
        "\n",
        "        # Set model into training mode\n",
        "        cnn_model.train()\n",
        "\n",
        "        # Reshape images into a vector\n",
        "        # train_features = train_features.reshape(-1, 28*28)\n",
        "\n",
        "        # Reset gradients, Calculate training loss on model\n",
        "        optimizer.zero_grad()\n",
        "        train_outputs = cnn_model(train_features)\n",
        "        # print(torch.mean(train_outputs, dim=[1, 2]).shape)\n",
        "        train_outputs = torch.mean(train_outputs, dim=[1, 2])\n",
        "        # train_outputs = train_outputs[:, 0, 0, :]\n",
        "        # print(train_outputs.shape)\n",
        "        # print(train_labels.shape)\n",
        "        loss = loss_func(train_outputs, train_labels)\n",
        "        train_loss_list[epoch] += loss.item() / (num_train_batches - 1)\n",
        "\n",
        "        # Perform optimization, back propagation\n",
        "        loss.backward()\n",
        "        optimizer.step()\n",
        "\n",
        "    # Record loss for the epoch (ALREADY DONE ABOVE)\n",
        "\n",
        "    k = 1\n",
        "    # CNN Validation\n",
        "    for val_features, val_labels in val_batches:\n",
        "\n",
        "        if k == num_val_batches:\n",
        "            break\n",
        "        k += 1\n",
        "\n",
        "        # Transfer data to GPU memory\n",
        "        if torch.cuda.is_available():\n",
        "          val_features = val_features.cuda()\n",
        "          val_labels = val_labels.cuda()\n",
        "\n",
        "        # Telling PyTorch we aren't passing inputs to network for training purpose\n",
        "        with torch.no_grad():\n",
        "            cnn_model.eval()\n",
        "\n",
        "            # Reshape validation images into a vector\n",
        "            # val_features = val_features.reshape(-1, 28*28)\n",
        "\n",
        "            # Compute validation outputs (targets)\n",
        "            # and compute accuracy\n",
        "            val_outputs = cnn_model(val_features)\n",
        "            val_outputs = torch.mean(val_outputs, dim=[1, 2])\n",
        "            # val_outputs = val_outputs[:, 0, 0, :]\n",
        "            # print(val_outputs.shape)\n",
        "            # print(val_labels.shape)\n",
        "            correct = (torch.argmax(val_outputs, dim = 1) == val_labels).type(torch.FloatTensor)\n",
        "            validation_accuracy_list[epoch] += correct.mean() / (num_val_batches - 1)\n",
        "\n",
        "    # Record accuracy for the epoch; print training loss, validation accuracy\n",
        "    # print(\"Epoch: \"+ str(epoch) +\"; Validation Accuracy:\" + str(val_acc/num_val_batches*100) + '%')\n",
        "    print(\"Epoch: \"+ str(epoch))\n",
        "    print(\"Training Loss:\" + str(round(train_loss_list[epoch], 2)))\n",
        "    print(\"Validation Accuracy:\" + str(round(validation_accuracy_list[epoch] * 100, 2)) + '%')\n",
        "\n",
        "\n",
        "end = time.time()\n",
        "cnn_runtime = end - start"
      ],
      "metadata": {
        "colab": {
          "base_uri": "https://localhost:8080/"
        },
        "id": "jxTPA2fLm1v3",
        "outputId": "0a518548-b7ac-45a2-a0ef-de5e0398b6cc"
      },
      "execution_count": 150,
      "outputs": [
        {
          "output_type": "stream",
          "name": "stderr",
          "text": [
            "  2%|▎         | 1/40 [00:15<10:13, 15.73s/it]"
          ]
        },
        {
          "output_type": "stream",
          "name": "stdout",
          "text": [
            "Epoch: 0\n",
            "Training Loss:2.09\n",
            "Validation Accuracy:39.58%\n"
          ]
        },
        {
          "output_type": "stream",
          "name": "stderr",
          "text": [
            "\r  5%|▌         | 2/40 [00:31<09:52, 15.59s/it]"
          ]
        },
        {
          "output_type": "stream",
          "name": "stdout",
          "text": [
            "Epoch: 1\n",
            "Training Loss:1.43\n",
            "Validation Accuracy:54.07%\n"
          ]
        },
        {
          "output_type": "stream",
          "name": "stderr",
          "text": [
            "\r  8%|▊         | 3/40 [00:46<09:34, 15.54s/it]"
          ]
        },
        {
          "output_type": "stream",
          "name": "stdout",
          "text": [
            "Epoch: 2\n",
            "Training Loss:1.25\n",
            "Validation Accuracy:57.3%\n"
          ]
        },
        {
          "output_type": "stream",
          "name": "stderr",
          "text": [
            "\r 10%|█         | 4/40 [01:02<09:16, 15.46s/it]"
          ]
        },
        {
          "output_type": "stream",
          "name": "stdout",
          "text": [
            "Epoch: 3\n",
            "Training Loss:1.17\n",
            "Validation Accuracy:59.16%\n"
          ]
        },
        {
          "output_type": "stream",
          "name": "stderr",
          "text": [
            "\r 12%|█▎        | 5/40 [01:17<08:59, 15.42s/it]"
          ]
        },
        {
          "output_type": "stream",
          "name": "stdout",
          "text": [
            "Epoch: 4\n",
            "Training Loss:1.12\n",
            "Validation Accuracy:61.7%\n"
          ]
        },
        {
          "output_type": "stream",
          "name": "stderr",
          "text": [
            "\r 15%|█▌        | 6/40 [01:32<08:42, 15.38s/it]"
          ]
        },
        {
          "output_type": "stream",
          "name": "stdout",
          "text": [
            "Epoch: 5\n",
            "Training Loss:1.06\n",
            "Validation Accuracy:63.48%\n"
          ]
        },
        {
          "output_type": "stream",
          "name": "stderr",
          "text": [
            "\r 18%|█▊        | 7/40 [01:48<08:27, 15.38s/it]"
          ]
        },
        {
          "output_type": "stream",
          "name": "stdout",
          "text": [
            "Epoch: 6\n",
            "Training Loss:1.01\n",
            "Validation Accuracy:64.67%\n"
          ]
        },
        {
          "output_type": "stream",
          "name": "stderr",
          "text": [
            "\r 20%|██        | 8/40 [02:03<08:11, 15.37s/it]"
          ]
        },
        {
          "output_type": "stream",
          "name": "stdout",
          "text": [
            "Epoch: 7\n",
            "Training Loss:0.97\n",
            "Validation Accuracy:66.1%\n"
          ]
        },
        {
          "output_type": "stream",
          "name": "stderr",
          "text": [
            "\r 22%|██▎       | 9/40 [02:18<07:56, 15.38s/it]"
          ]
        },
        {
          "output_type": "stream",
          "name": "stdout",
          "text": [
            "Epoch: 8\n",
            "Training Loss:0.93\n",
            "Validation Accuracy:67.03%\n"
          ]
        },
        {
          "output_type": "stream",
          "name": "stderr",
          "text": [
            "\r 25%|██▌       | 10/40 [02:34<07:42, 15.40s/it]"
          ]
        },
        {
          "output_type": "stream",
          "name": "stdout",
          "text": [
            "Epoch: 9\n",
            "Training Loss:0.92\n",
            "Validation Accuracy:67.51%\n"
          ]
        },
        {
          "output_type": "stream",
          "name": "stderr",
          "text": [
            "\r 28%|██▊       | 11/40 [02:50<07:29, 15.51s/it]"
          ]
        },
        {
          "output_type": "stream",
          "name": "stdout",
          "text": [
            "Epoch: 10\n",
            "Training Loss:0.9\n",
            "Validation Accuracy:67.74%\n"
          ]
        },
        {
          "output_type": "stream",
          "name": "stderr",
          "text": [
            "\r 30%|███       | 12/40 [03:05<07:13, 15.49s/it]"
          ]
        },
        {
          "output_type": "stream",
          "name": "stdout",
          "text": [
            "Epoch: 11\n",
            "Training Loss:0.89\n",
            "Validation Accuracy:68.55%\n"
          ]
        },
        {
          "output_type": "stream",
          "name": "stderr",
          "text": [
            "\r 32%|███▎      | 13/40 [03:20<06:56, 15.43s/it]"
          ]
        },
        {
          "output_type": "stream",
          "name": "stdout",
          "text": [
            "Epoch: 12\n",
            "Training Loss:0.88\n",
            "Validation Accuracy:68.52%\n"
          ]
        },
        {
          "output_type": "stream",
          "name": "stderr",
          "text": [
            "\r 35%|███▌      | 14/40 [03:36<06:40, 15.39s/it]"
          ]
        },
        {
          "output_type": "stream",
          "name": "stdout",
          "text": [
            "Epoch: 13\n",
            "Training Loss:0.87\n",
            "Validation Accuracy:68.75%\n"
          ]
        },
        {
          "output_type": "stream",
          "name": "stderr",
          "text": [
            "\r 38%|███▊      | 15/40 [03:51<06:23, 15.35s/it]"
          ]
        },
        {
          "output_type": "stream",
          "name": "stdout",
          "text": [
            "Epoch: 14\n",
            "Training Loss:0.87\n",
            "Validation Accuracy:68.71%\n"
          ]
        },
        {
          "output_type": "stream",
          "name": "stderr",
          "text": [
            "\r 40%|████      | 16/40 [04:06<06:07, 15.30s/it]"
          ]
        },
        {
          "output_type": "stream",
          "name": "stdout",
          "text": [
            "Epoch: 15\n",
            "Training Loss:0.86\n",
            "Validation Accuracy:69.03%\n"
          ]
        },
        {
          "output_type": "stream",
          "name": "stderr",
          "text": [
            "\r 42%|████▎     | 17/40 [04:21<05:51, 15.27s/it]"
          ]
        },
        {
          "output_type": "stream",
          "name": "stdout",
          "text": [
            "Epoch: 16\n",
            "Training Loss:0.86\n",
            "Validation Accuracy:69.41%\n"
          ]
        },
        {
          "output_type": "stream",
          "name": "stderr",
          "text": [
            "\r 45%|████▌     | 18/40 [04:36<05:35, 15.27s/it]"
          ]
        },
        {
          "output_type": "stream",
          "name": "stdout",
          "text": [
            "Epoch: 17\n",
            "Training Loss:0.85\n",
            "Validation Accuracy:69.12%\n"
          ]
        },
        {
          "output_type": "stream",
          "name": "stderr",
          "text": [
            "\r 48%|████▊     | 19/40 [04:52<05:20, 15.25s/it]"
          ]
        },
        {
          "output_type": "stream",
          "name": "stdout",
          "text": [
            "Epoch: 18\n",
            "Training Loss:0.85\n",
            "Validation Accuracy:69.48%\n"
          ]
        },
        {
          "output_type": "stream",
          "name": "stderr",
          "text": [
            "\r 50%|█████     | 20/40 [05:07<05:05, 15.26s/it]"
          ]
        },
        {
          "output_type": "stream",
          "name": "stdout",
          "text": [
            "Epoch: 19\n",
            "Training Loss:0.84\n",
            "Validation Accuracy:69.48%\n"
          ]
        },
        {
          "output_type": "stream",
          "name": "stderr",
          "text": [
            "\r 52%|█████▎    | 21/40 [05:22<04:49, 15.25s/it]"
          ]
        },
        {
          "output_type": "stream",
          "name": "stdout",
          "text": [
            "Epoch: 20\n",
            "Training Loss:0.84\n",
            "Validation Accuracy:68.77%\n"
          ]
        },
        {
          "output_type": "stream",
          "name": "stderr",
          "text": [
            "\r 55%|█████▌    | 22/40 [05:37<04:34, 15.26s/it]"
          ]
        },
        {
          "output_type": "stream",
          "name": "stdout",
          "text": [
            "Epoch: 21\n",
            "Training Loss:0.83\n",
            "Validation Accuracy:69.9%\n"
          ]
        },
        {
          "output_type": "stream",
          "name": "stderr",
          "text": [
            "\r 57%|█████▊    | 23/40 [05:53<04:20, 15.31s/it]"
          ]
        },
        {
          "output_type": "stream",
          "name": "stdout",
          "text": [
            "Epoch: 22\n",
            "Training Loss:0.83\n",
            "Validation Accuracy:70.05%\n"
          ]
        },
        {
          "output_type": "stream",
          "name": "stderr",
          "text": [
            "\r 60%|██████    | 24/40 [06:08<04:05, 15.34s/it]"
          ]
        },
        {
          "output_type": "stream",
          "name": "stdout",
          "text": [
            "Epoch: 23\n",
            "Training Loss:0.83\n",
            "Validation Accuracy:69.09%\n"
          ]
        },
        {
          "output_type": "stream",
          "name": "stderr",
          "text": [
            "\r 62%|██████▎   | 25/40 [06:23<03:49, 15.28s/it]"
          ]
        },
        {
          "output_type": "stream",
          "name": "stdout",
          "text": [
            "Epoch: 24\n",
            "Training Loss:0.82\n",
            "Validation Accuracy:69.66%\n"
          ]
        },
        {
          "output_type": "stream",
          "name": "stderr",
          "text": [
            "\r 65%|██████▌   | 26/40 [06:39<03:33, 15.28s/it]"
          ]
        },
        {
          "output_type": "stream",
          "name": "stdout",
          "text": [
            "Epoch: 25\n",
            "Training Loss:0.82\n",
            "Validation Accuracy:70.03%\n"
          ]
        },
        {
          "output_type": "stream",
          "name": "stderr",
          "text": [
            "\r 68%|██████▊   | 27/40 [06:54<03:18, 15.26s/it]"
          ]
        },
        {
          "output_type": "stream",
          "name": "stdout",
          "text": [
            "Epoch: 26\n",
            "Training Loss:0.82\n",
            "Validation Accuracy:70.05%\n"
          ]
        },
        {
          "output_type": "stream",
          "name": "stderr",
          "text": [
            "\r 70%|███████   | 28/40 [07:09<03:02, 15.19s/it]"
          ]
        },
        {
          "output_type": "stream",
          "name": "stdout",
          "text": [
            "Epoch: 27\n",
            "Training Loss:0.81\n",
            "Validation Accuracy:70.58%\n"
          ]
        },
        {
          "output_type": "stream",
          "name": "stderr",
          "text": [
            "\r 72%|███████▎  | 29/40 [07:24<02:47, 15.20s/it]"
          ]
        },
        {
          "output_type": "stream",
          "name": "stdout",
          "text": [
            "Epoch: 28\n",
            "Training Loss:0.81\n",
            "Validation Accuracy:70.61%\n"
          ]
        },
        {
          "output_type": "stream",
          "name": "stderr",
          "text": [
            "\r 75%|███████▌  | 30/40 [07:40<02:32, 15.30s/it]"
          ]
        },
        {
          "output_type": "stream",
          "name": "stdout",
          "text": [
            "Epoch: 29\n",
            "Training Loss:0.81\n",
            "Validation Accuracy:70.35%\n"
          ]
        },
        {
          "output_type": "stream",
          "name": "stderr",
          "text": [
            "\r 78%|███████▊  | 31/40 [07:55<02:17, 15.31s/it]"
          ]
        },
        {
          "output_type": "stream",
          "name": "stdout",
          "text": [
            "Epoch: 30\n",
            "Training Loss:0.81\n",
            "Validation Accuracy:70.4%\n"
          ]
        },
        {
          "output_type": "stream",
          "name": "stderr",
          "text": [
            "\r 80%|████████  | 32/40 [08:10<02:02, 15.30s/it]"
          ]
        },
        {
          "output_type": "stream",
          "name": "stdout",
          "text": [
            "Epoch: 31\n",
            "Training Loss:0.8\n",
            "Validation Accuracy:70.56%\n"
          ]
        },
        {
          "output_type": "stream",
          "name": "stderr",
          "text": [
            "\r 82%|████████▎ | 33/40 [08:26<01:47, 15.35s/it]"
          ]
        },
        {
          "output_type": "stream",
          "name": "stdout",
          "text": [
            "Epoch: 32\n",
            "Training Loss:0.8\n",
            "Validation Accuracy:70.9%\n"
          ]
        },
        {
          "output_type": "stream",
          "name": "stderr",
          "text": [
            "\r 85%|████████▌ | 34/40 [08:41<01:31, 15.29s/it]"
          ]
        },
        {
          "output_type": "stream",
          "name": "stdout",
          "text": [
            "Epoch: 33\n",
            "Training Loss:0.8\n",
            "Validation Accuracy:71.11%\n"
          ]
        },
        {
          "output_type": "stream",
          "name": "stderr",
          "text": [
            "\r 88%|████████▊ | 35/40 [08:56<01:16, 15.24s/it]"
          ]
        },
        {
          "output_type": "stream",
          "name": "stdout",
          "text": [
            "Epoch: 34\n",
            "Training Loss:0.8\n",
            "Validation Accuracy:71.11%\n"
          ]
        },
        {
          "output_type": "stream",
          "name": "stderr",
          "text": [
            "\r 90%|█████████ | 36/40 [09:11<01:01, 15.27s/it]"
          ]
        },
        {
          "output_type": "stream",
          "name": "stdout",
          "text": [
            "Epoch: 35\n",
            "Training Loss:0.79\n",
            "Validation Accuracy:70.95%\n"
          ]
        },
        {
          "output_type": "stream",
          "name": "stderr",
          "text": [
            "\r 92%|█████████▎| 37/40 [09:27<00:45, 15.30s/it]"
          ]
        },
        {
          "output_type": "stream",
          "name": "stdout",
          "text": [
            "Epoch: 36\n",
            "Training Loss:0.79\n",
            "Validation Accuracy:71.57%\n"
          ]
        },
        {
          "output_type": "stream",
          "name": "stderr",
          "text": [
            "\r 95%|█████████▌| 38/40 [09:42<00:30, 15.28s/it]"
          ]
        },
        {
          "output_type": "stream",
          "name": "stdout",
          "text": [
            "Epoch: 37\n",
            "Training Loss:0.79\n",
            "Validation Accuracy:71.34%\n"
          ]
        },
        {
          "output_type": "stream",
          "name": "stderr",
          "text": [
            "\r 98%|█████████▊| 39/40 [09:58<00:15, 15.37s/it]"
          ]
        },
        {
          "output_type": "stream",
          "name": "stdout",
          "text": [
            "Epoch: 38\n",
            "Training Loss:0.79\n",
            "Validation Accuracy:70.45%\n"
          ]
        },
        {
          "output_type": "stream",
          "name": "stderr",
          "text": [
            "100%|██████████| 40/40 [10:13<00:00, 15.34s/it]"
          ]
        },
        {
          "output_type": "stream",
          "name": "stdout",
          "text": [
            "Epoch: 39\n",
            "Training Loss:0.79\n",
            "Validation Accuracy:70.83%\n"
          ]
        },
        {
          "output_type": "stream",
          "name": "stderr",
          "text": [
            "\n"
          ]
        }
      ]
    },
    {
      "cell_type": "code",
      "execution_count": 111,
      "metadata": {
        "colab": {
          "base_uri": "https://localhost:8080/"
        },
        "id": "ij4fjmJ9R7SR",
        "outputId": "673484b8-5b4c-4364-949b-c0252d92f48b"
      },
      "outputs": [
        {
          "output_type": "stream",
          "name": "stdout",
          "text": [
            "----------FCN PERFORMANCE----------\n",
            "Testing Accuracy: 89.44%\n",
            "Standard Deviation: 2.0%\n",
            "Number of weights = 49K\n",
            "Runtime = 9.21 minutes\n"
          ]
        }
      ],
      "source": [
        "## TESTING FCN\n",
        "# Calculate accuracy on test set\n",
        "test_accuracy = 0\n",
        "batch_acc = np.zeros(num_test_batches)\n",
        "k = 0\n",
        "\n",
        "# Telling PyTorch we aren't passing inputs to network for training purpose\n",
        "with torch.no_grad():\n",
        "\n",
        "    for test_features, test_labels in test_batches:\n",
        "\n",
        "        # Transfer data to GPU memory\n",
        "        if torch.cuda.is_available():\n",
        "          test_features = test_features.cuda()\n",
        "          test_labels = test_labels.cuda()\n",
        "\n",
        "        model.eval()\n",
        "        # Reshape test images into a vector\n",
        "        test_features = test_features.reshape(-1, 28*28)\n",
        "\n",
        "        # Compute validation outputs (targets)\n",
        "        # and compute accuracy\n",
        "        test_preds = model(test_features)\n",
        "        correct = (torch.argmax(test_preds, dim = 1) == test_labels).type(torch.FloatTensor)\n",
        "        test_accuracy += correct.mean() / num_test_batches\n",
        "        batch_acc[k] = correct.mean().numpy()\n",
        "        k += 1\n",
        "\n",
        "\n",
        "    # Compute total (mean) accuracy\n",
        "    # Report total (mean) accuracy, can also compute std based on batches\n",
        "    print(\"----------FCN PERFORMANCE----------\")\n",
        "    print(\"Testing Accuracy: \" + str(round(test_accuracy.numpy() * 100, 2)) + '%')\n",
        "    print(\"Standard Deviation: \" + str(round(batch_acc.std() * 100, 2)) + '%')\n",
        "    print(\"Number of weights = \" + str(int(sum(np.asarray(neuron_layers)**2) / 1e3)) + \"K\")\n",
        "    print(\"Runtime = \" + str(round(runtime / 60, 2)) + \" minutes\")"
      ]
    },
    {
      "cell_type": "code",
      "source": [
        "## TESTING CNN\n",
        "# Calculate accuracy on test set\n",
        "test_accuracy = 0\n",
        "batch_acc = np.zeros(num_test_batches)\n",
        "k = 0\n",
        "\n",
        "# Telling PyTorch we aren't passing inputs to network for training purpose\n",
        "with torch.no_grad():\n",
        "\n",
        "    for test_features, test_labels in test_batches:\n",
        "\n",
        "        # Transfer data to GPU memory\n",
        "        if torch.cuda.is_available():\n",
        "          test_features = test_features.cuda()\n",
        "          test_labels = test_labels.cuda()\n",
        "\n",
        "        cnn_model.eval()\n",
        "        # Reshape test images into a vector\n",
        "        # test_features = test_features.reshape(-1, 28*28)\n",
        "\n",
        "        # Compute validation outputs (targets)\n",
        "        # and compute accuracy\n",
        "        test_preds = cnn_model(test_features)\n",
        "        test_preds = torch.mean(test_preds, dim=[1, 2])\n",
        "        # test_preds = test_preds[:, 0, 0, :]\n",
        "        # print(test_preds.shape)\n",
        "        # print(test_labels.shape)\n",
        "        correct = (torch.argmax(test_preds, dim = 1) == test_labels).type(torch.FloatTensor)\n",
        "        test_accuracy += correct.mean() / num_test_batches\n",
        "        batch_acc[k] = correct.mean().numpy()\n",
        "        k += 1\n",
        "\n",
        "\n",
        "    # Compute total (mean) accuracy\n",
        "    # Report total (mean) accuracy, can also compute std based on batches\n",
        "    print(\"----------CNN PERFORMANCE----------\")\n",
        "    print(\"Testing Accuracy: \" + str(round(test_accuracy.numpy() * 100, 2)) + '%')\n",
        "    print(\"Standard Deviation: \" + str(round(batch_acc.std() * 100, 2)) + '%')\n",
        "    print(\"Number of weights = \" + str(int(cnn_num_filters * 50)))\n",
        "    print(\"Runtime = \" + str(round(cnn_runtime / 60, 2)) + \" minutes\")"
      ],
      "metadata": {
        "colab": {
          "base_uri": "https://localhost:8080/"
        },
        "id": "EGgPUo-brTlG",
        "outputId": "8e490ff2-bb2f-41dd-91c2-9785870566a1"
      },
      "execution_count": 151,
      "outputs": [
        {
          "output_type": "stream",
          "name": "stdout",
          "text": [
            "----------CNN PERFORMANCE----------\n",
            "Testing Accuracy: 70.96%\n",
            "Standard Deviation: 3.86%\n",
            "Number of weights = 200\n",
            "Runtime = 10.22 minutes\n"
          ]
        }
      ]
    },
    {
      "cell_type": "code",
      "execution_count": 152,
      "metadata": {
        "colab": {
          "base_uri": "https://localhost:8080/",
          "height": 600
        },
        "id": "iu1owfQ-R7SR",
        "outputId": "d3057228-0f9d-48ec-b2ff-15f3acc6e319"
      },
      "outputs": [
        {
          "output_type": "display_data",
          "data": {
            "text/plain": [
              "<Figure size 800x600 with 2 Axes>"
            ],
            "image/png": "[encoded data removed]"
          },
          "metadata": {}
        }
      ],
      "source": [
        "## VISUALIZATION\n",
        "\n",
        "# Plot training loss and validation accuracy throughout the training epochs\n",
        "import seaborn as sns\n",
        "sns.set(style = 'darkgrid', font_scale = 1.5)\n",
        "# plt.style.use('dark_background')\n",
        "\n",
        "plt.figure(figsize = (8, 6))\n",
        "\n",
        "plt.subplot(2, 1, 1)\n",
        "plt.plot(train_loss_list, linewidth = 3)\n",
        "plt.ylabel(\"training loss\")\n",
        "plt.title(\"CNN 10K\", fontsize = 26)\n",
        "plt.tick_params(axis = 'x', labelbottom = False)\n",
        "# plt.tick_params(\n",
        "#     axis='x',          # changes apply to the x-axis\n",
        "#     which='both',      # both major and minor ticks are affected\n",
        "#     bottom=False,      # ticks along the bottom edge are off\n",
        "#     top=False,         # ticks along the top edge are off\n",
        "#     labelbottom=False)\n",
        "\n",
        "plt.subplot(2, 1, 2)\n",
        "plt.plot(validation_accuracy_list, linewidth = 3, color = 'gold', zorder = 0, label = \"validation\")\n",
        "plt.ylabel(\"accuracy\")\n",
        "plt.yticks(np.linspace(0, 1, 21))\n",
        "plt.xlabel(\"epochs\")\n",
        "plt.errorbar(epochs - 1, test_accuracy.numpy(), batch_acc.std(), c = 'red', fmt = '-x', markersize = 12, linewidth = 1.5, zorder = 10, label = 'testing')\n",
        "# plt.axhline(0.85, c = 'grey', linewidth = 1, linestyle = '--', zorder = 5, label = \"85%\")\n",
        "plt.legend(loc = 'lower right')\n",
        "\n",
        "sns.despine()"
      ]
    }
  ],
  "metadata": {
    "accelerator": "TPU",
    "colab": {
      "collapsed_sections": [
        "EM6GQLv6j5uH"
      ],
      "provenance": [],
      "machine_shape": "hm"
    },
    "kernelspec": {
      "display_name": "Python 3",
      "name": "python3"
    },
    "language_info": {
      "codemirror_mode": {
        "name": "ipython",
        "version": 3
      },
      "file_extension": ".py",
      "mimetype": "text/x-python",
      "name": "python",
      "nbconvert_exporter": "python",
      "pygments_lexer": "ipython3",
      "version": "3.10.4"
    }
  },
  "nbformat": 4,
  "nbformat_minor": 0
}