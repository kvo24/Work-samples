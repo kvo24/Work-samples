{
  "cells": [
    {
      "cell_type": "code",
      "execution_count": 133,
      "metadata": {
        "id": "p5dL4YeVorzV"
      },
      "outputs": [],
      "source": [
        "import numpy as np\n",
        "import torch\n",
        "from torch import nn\n",
        "import tqdm"
      ]
    },
    {
      "cell_type": "code",
      "execution_count": 134,
      "metadata": {
        "id": "skn2M3E2R7SO"
      },
      "outputs": [],
      "source": [
        "import torchvision\n",
        "import matplotlib.pyplot as plt\n",
        "%matplotlib inline\n",
        "from torch.utils.data import DataLoader, Subset\n",
        "from sklearn.model_selection import train_test_split\n"
      ]
    },
    {
      "cell_type": "code",
      "execution_count": 135,
      "metadata": {
        "colab": {
          "base_uri": "https://localhost:8080/"
        },
        "id": "TolFr7Pa4NMN",
        "outputId": "c136f3f9-2774-476f-8d1d-03366d860858"
      },
      "outputs": [
        {
          "output_type": "execute_result",
          "data": {
            "text/plain": [
              "True"
            ]
          },
          "metadata": {},
          "execution_count": 135
        }
      ],
      "source": [
        "torch.cuda.is_available()"
      ]
    },
    {
      "cell_type": "code",
      "execution_count": 136,
      "metadata": {
        "colab": {
          "base_uri": "https://localhost:8080/"
        },
        "id": "feGo1EKE4sRg",
        "outputId": "d4c5041b-15b6-4d32-ab2b-42568cad91a6"
      },
      "outputs": [
        {
          "output_type": "stream",
          "name": "stdout",
          "text": [
            "num_train_batches = 106\n",
            "num_val_batches = 12\n",
            "num_test_batches = 40\n"
          ]
        }
      ],
      "source": [
        "## DATA PREPARATION\n",
        "# Use the following code to load and normalize the dataset for training and testing\n",
        "# It will downlad the dataset into data subfolder (change to your data folder name)\n",
        "train_dataset = torchvision.datasets.FashionMNIST('data/', train=True, download=True,\n",
        "                             transform=torchvision.transforms.Compose([\n",
        "                               torchvision.transforms.ToTensor(),\n",
        "                               torchvision.transforms.Normalize(\n",
        "                                 (0.1307,), (0.3081,))\n",
        "                             ]))\n",
        "\n",
        "test_dataset = torchvision.datasets.FashionMNIST('data/', train=False, download=True,\n",
        "                             transform=torchvision.transforms.Compose([\n",
        "                               torchvision.transforms.ToTensor(),\n",
        "                               torchvision.transforms.Normalize(\n",
        "                                 (0.1307,), (0.3081,))\n",
        "                             ]))\n",
        "\n",
        "\n",
        "# Use the following code to create a validation set of 10%\n",
        "train_indices, val_indices, _, _ = train_test_split(\n",
        "    range(len(train_dataset)),\n",
        "    train_dataset.targets,\n",
        "    stratify=train_dataset.targets,\n",
        "    test_size=0.1,\n",
        ")\n",
        "\n",
        "# Generate training and validation subsets based on indices\n",
        "train_split = Subset(train_dataset, train_indices)\n",
        "val_split = Subset(train_dataset, val_indices)\n",
        "\n",
        "\n",
        "# set batches sizes\n",
        "train_batch_size = 512 #Define train batch size\n",
        "test_batch_size  = 256 #Define test batch size (can be larger than train batch size)\n",
        "\n",
        "\n",
        "# Define dataloader objects that help to iterate over batches and samples for\n",
        "# training, validation and testing\n",
        "train_batches = DataLoader(train_split, batch_size=train_batch_size, shuffle=True)\n",
        "val_batches = DataLoader(val_split, batch_size=train_batch_size, shuffle=True)\n",
        "test_batches = DataLoader(test_dataset, batch_size=test_batch_size, shuffle=True)\n",
        "\n",
        "num_train_batches=len(train_batches)\n",
        "num_val_batches=len(val_batches)\n",
        "num_test_batches=len(test_batches)\n",
        "\n",
        "\n",
        "print(\"num_train_batches = \" + str(num_train_batches))\n",
        "print(\"num_val_batches = \" + str(num_val_batches))\n",
        "print(\"num_test_batches = \" + str(num_test_batches))\n",
        "\n",
        "\n",
        "# Sample code to visualize the first sample in first 16 batches\n",
        "# batch_num = 0\n",
        "# for train_features, train_labels in train_batches:\n",
        "\n",
        "#     if batch_num == 16:\n",
        "#         break    # break here\n",
        "\n",
        "#     batch_num = batch_num +1\n",
        "#     print(f\"Feature batch shape: {train_features.size()}\")\n",
        "#     print(f\"Labels batch shape: {train_labels.size()}\")\n",
        "\n",
        "#     img = train_features[0].squeeze()\n",
        "#     label = train_labels[0]\n",
        "#     plt.imshow(img, cmap=\"gray\")\n",
        "#     plt.show()\n",
        "#     print(f\"Label: {label}\")\n",
        "\n",
        "\n",
        "\n",
        "# Sample code to plot N^2 images from the dataset\n",
        "# def plot_images(XX, N, title):\n",
        "#     fig, ax = plt.subplots(N, N, figsize=(8, 8))\n",
        "\n",
        "#     for i in range(N):\n",
        "#       for j in range(N):\n",
        "#         ax[i,j].imshow(XX[(N)*i+j], cmap=\"Greys\")\n",
        "#         ax[i,j].axis(\"off\")\n",
        "#     fig.suptitle(title, fontsize=24)\n",
        "\n",
        "# plot_images(train_dataset.data[:64], 8, \"First 64 Training Images\" )"
      ]
    },
    {
      "cell_type": "code",
      "execution_count": 137,
      "metadata": {
        "id": "DECraaMNgdjY"
      },
      "outputs": [],
      "source": [
        "def data_loader(train_batch_size, test_batch_size):\n",
        "    # Define dataloader objects that help to iterate over batches and samples for\n",
        "    # training, validation and testing\n",
        "    train_batches = DataLoader(train_split, batch_size=train_batch_size, shuffle=True)\n",
        "    val_batches = DataLoader(val_split, batch_size=train_batch_size, shuffle=True)\n",
        "    test_batches = DataLoader(test_dataset, batch_size=test_batch_size, shuffle=True)\n",
        "\n",
        "    num_train_batches=len(train_batches)\n",
        "    num_val_batches=len(val_batches)\n",
        "    num_test_batches=len(test_batches)\n",
        "\n",
        "\n",
        "    print(\"num_train_batches = \" + str(num_train_batches))\n",
        "    print(\"num_val_batches = \" + str(num_val_batches))\n",
        "    print(\"num_test_batches = \" + str(num_test_batches))\n",
        "\n",
        "    return train_batches, val_batches, test_batches, num_train_batches, num_val_batches, num_test_batches"
      ]
    },
    {
      "cell_type": "code",
      "execution_count": 138,
      "metadata": {
        "id": "HrvoPg1f7Gxu"
      },
      "outputs": [],
      "source": [
        "# ## MODEL DEFINITION (baseline)\n",
        "\n",
        "# class ACAIGFCN(nn.Module):\n",
        "\n",
        "#     #Initialize model layers, add additional arguments to adjust\n",
        "#     def __init__(self, input_dim, output_dim, hidden_dims):\n",
        "\n",
        "#         self.hidden_dims = hidden_dims\n",
        "#         super(ACAIGFCN, self).__init__()\n",
        "\n",
        "\n",
        "#         #Define the network layer(s) and activation function(s)\n",
        "\n",
        "#         self.input_layer = nn.Linear(input_dim, hidden_dims[0])\n",
        "\n",
        "#         self.hidden_layers = nn.ModuleList()\n",
        "#         for k in range(len(hidden_dims) - 1):\n",
        "#             self.hidden_layers.append(nn.Linear(hidden_dims[k], hidden_dims[k + 1]))\n",
        "\n",
        "#         self.output_layer = nn.Linear(hidden_dims[-1], output_dim)\n",
        "\n",
        "\n",
        "#     def forward(self, input):\n",
        "#         #Define how your model propagates the input through the network\n",
        "\n",
        "#         x = torch.nn.functional.relu(self.input_layer(input))\n",
        "\n",
        "#         for k in range(len(self.hidden_dims) - 1):\n",
        "#             x = torch.nn.functional.relu(self.hidden_layers[k](x))\n",
        "\n",
        "#         output = self.output_layer(x)\n",
        "\n",
        "\n",
        "\n",
        "#         return output"
      ]
    },
    {
      "cell_type": "code",
      "execution_count": 139,
      "metadata": {
        "id": "nVZAbT_cjQZF"
      },
      "outputs": [],
      "source": [
        "# ## PARAMETERS (baseline)\n",
        "# # Initialize neural network model with input, output and hidden layer dimensions\n",
        "# model = ACAIGFCN(input_dim = 784, output_dim = 10, hidden_dims = [400, 400]) # <--- <---\n",
        "# print(model)\n",
        "\n",
        "# # Define the learning rate and epochs number\n",
        "# learning_rate = 0.03 # <---\n",
        "# epochs = 40 # <---\n",
        "\n",
        "# # Define loss function  and optimizer\n",
        "# loss_func = torch.nn.CrossEntropyLoss() # Use Cross Entropy loss from torch.nn\n",
        "# optimizer = torch.optim.SGD(model.parameters(), lr = learning_rate) # <--- Use optimizers from torch.optim\n",
        "\n",
        "# ## Re-adjust number of training batches\n",
        "# # set batch sizes\n",
        "# train_batch_size = 512 # <--- Define train batch size\n",
        "# test_batch_size  = 256 #Define test batch size (can be larger than train batch size)\n",
        "\n",
        "# train_batches, val_batches, test_batches, num_train_batches, num_val_batches, num_test_batches = data_loader(train_batch_size, test_batch_size)\n",
        "\n",
        "# # Identify tracked values\n",
        "# train_loss_list = np.zeros((epochs,))\n",
        "# validation_accuracy_list = np.zeros((epochs,))\n",
        "\n",
        "# # For PyTorch GPU version\n",
        "# if torch.cuda.is_available():\n",
        "#   model.cuda()"
      ]
    },
    {
      "cell_type": "code",
      "execution_count": 140,
      "metadata": {
        "id": "IEpbQvmJhiXA"
      },
      "outputs": [],
      "source": [
        "## MODEL DEFINITION (As Cool As It Gets)\n",
        "\n",
        "class ACAIGFCN(nn.Module):\n",
        "\n",
        "    #Initialize model layers, add additional arguments to adjust\n",
        "    def __init__(self, input_dim, output_dim, hidden_dims, dropout):\n",
        "\n",
        "        self.hidden_dims = hidden_dims\n",
        "        super(ACAIGFCN, self).__init__()\n",
        "\n",
        "\n",
        "        #Define the network layer(s) and activation function(s)\n",
        "\n",
        "        self.input_layer = nn.Linear(input_dim, hidden_dims[0])\n",
        "\n",
        "        self.dropout_after_input = nn.Dropout(dropout)\n",
        "        print(dropout)\n",
        "\n",
        "        self.hidden_layers = nn.ModuleList()\n",
        "        self.dropouts = nn.ModuleList()\n",
        "        for k in range(len(hidden_dims) - 1):\n",
        "            self.hidden_layers.append(nn.Linear(hidden_dims[k], hidden_dims[k + 1]))\n",
        "            self.dropouts.append(nn.Dropout(dropout))\n",
        "\n",
        "        self.output_layer = nn.Linear(hidden_dims[-1], output_dim)\n",
        "\n",
        "\n",
        "    def forward(self, input):\n",
        "        #Define how your model propagates the input through the network\n",
        "\n",
        "        x = torch.nn.functional.relu(self.input_layer(input))\n",
        "\n",
        "        x = self.dropout_after_input(x)\n",
        "\n",
        "        for k in range(len(self.hidden_dims) - 1):\n",
        "            x = torch.nn.functional.relu(self.hidden_layers[k](x))\n",
        "\n",
        "            x = self.dropouts[k](x)\n",
        "\n",
        "        output = self.output_layer(x)\n",
        "\n",
        "\n",
        "\n",
        "        return output"
      ]
    },
    {
      "cell_type": "code",
      "source": [
        "def init_weights(m):\n",
        "    if type(m) == nn.Linear:\n",
        "        torch.nn.init.normal(m.weight)"
      ],
      "metadata": {
        "id": "FHfr--dRWUUc"
      },
      "execution_count": 141,
      "outputs": []
    },
    {
      "cell_type": "code",
      "execution_count": 142,
      "metadata": {
        "colab": {
          "base_uri": "https://localhost:8080/"
        },
        "id": "0F_DyktW8Bgw",
        "outputId": "4efb1007-b8b9-437d-becb-45cc4b71f69f"
      },
      "outputs": [
        {
          "output_type": "stream",
          "name": "stdout",
          "text": [
            "0.2\n",
            "ACAIGFCN(\n",
            "  (input_layer): Linear(in_features=784, out_features=400, bias=True)\n",
            "  (dropout_after_input): Dropout(p=0.2, inplace=False)\n",
            "  (hidden_layers): ModuleList(\n",
            "    (0): Linear(in_features=400, out_features=400, bias=True)\n",
            "  )\n",
            "  (dropouts): ModuleList(\n",
            "    (0): Dropout(p=0.2, inplace=False)\n",
            "  )\n",
            "  (output_layer): Linear(in_features=400, out_features=10, bias=True)\n",
            ")\n",
            "num_train_batches = 106\n",
            "num_val_batches = 12\n",
            "num_test_batches = 40\n"
          ]
        },
        {
          "output_type": "stream",
          "name": "stderr",
          "text": [
            "<ipython-input-141-160157a1c20e>:3: UserWarning: nn.init.normal is now deprecated in favor of nn.init.normal_.\n",
            "  torch.nn.init.normal(m.weight)\n"
          ]
        }
      ],
      "source": [
        "## PARAMETERS (As Cool As It Gets)\n",
        "# Initialize neural network model with input, output and hidden layer dimensions\n",
        "model = ACAIGFCN(input_dim = 784, output_dim = 10, hidden_dims = [400, 400], dropout = 0.2) # <--- <--- <---\n",
        "print(model)\n",
        "\n",
        "# Define the learning rate and epochs number\n",
        "learning_rate = 0.001 # <---\n",
        "epochs = 20 # <---\n",
        "\n",
        "# Define loss function  and optimizer\n",
        "loss_func = torch.nn.CrossEntropyLoss() # Use Cross Entropy loss from torch.nn\n",
        "optimizer = torch.optim.Adam(model.parameters(), lr = learning_rate) # <--- Use optimizers from torch.optim\n",
        "\n",
        "# Initialize weights of all FCN layers\n",
        "model.apply(init_weights)\n",
        "\n",
        "## Re-adjust number of training batches\n",
        "# set batch sizes\n",
        "train_batch_size = 512 # <--- Define train batch size\n",
        "test_batch_size  = 256 #Define test batch size (can be larger than train batch size)\n",
        "\n",
        "train_batches, val_batches, test_batches, num_train_batches, num_val_batches, num_test_batches = data_loader(train_batch_size, test_batch_size)\n",
        "\n",
        "# Identify tracked values\n",
        "train_loss_list = np.zeros((epochs,))\n",
        "validation_accuracy_list = np.zeros((epochs,))\n",
        "\n",
        "# For PyTorch GPU version\n",
        "if torch.cuda.is_available():\n",
        "  model.cuda()"
      ]
    },
    {
      "cell_type": "code",
      "execution_count": 143,
      "metadata": {
        "colab": {
          "base_uri": "https://localhost:8080/"
        },
        "id": "agRJKta_6M1G",
        "outputId": "fc17f6cf-51ec-4742-a71c-f630edd13713"
      },
      "outputs": [
        {
          "output_type": "stream",
          "name": "stderr",
          "text": [
            "  5%|▌         | 1/20 [00:12<03:57, 12.52s/it]"
          ]
        },
        {
          "output_type": "stream",
          "name": "stdout",
          "text": [
            "Epoch: 0\n",
            "Training Loss:3136.85\n",
            "Validation Accuracy:76.75%\n"
          ]
        },
        {
          "output_type": "stream",
          "name": "stderr",
          "text": [
            "\r 10%|█         | 2/20 [00:25<03:48, 12.72s/it]"
          ]
        },
        {
          "output_type": "stream",
          "name": "stdout",
          "text": [
            "Epoch: 1\n",
            "Training Loss:1090.2\n",
            "Validation Accuracy:80.08%\n"
          ]
        },
        {
          "output_type": "stream",
          "name": "stderr",
          "text": [
            "\r 15%|█▌        | 3/20 [00:37<03:32, 12.47s/it]"
          ]
        },
        {
          "output_type": "stream",
          "name": "stdout",
          "text": [
            "Epoch: 2\n",
            "Training Loss:736.96\n",
            "Validation Accuracy:81.23%\n"
          ]
        },
        {
          "output_type": "stream",
          "name": "stderr",
          "text": [
            "\r 20%|██        | 4/20 [00:49<03:18, 12.39s/it]"
          ]
        },
        {
          "output_type": "stream",
          "name": "stdout",
          "text": [
            "Epoch: 3\n",
            "Training Loss:549.27\n",
            "Validation Accuracy:81.57%\n"
          ]
        },
        {
          "output_type": "stream",
          "name": "stderr",
          "text": [
            "\r 25%|██▌       | 5/20 [01:02<03:04, 12.32s/it]"
          ]
        },
        {
          "output_type": "stream",
          "name": "stdout",
          "text": [
            "Epoch: 4\n",
            "Training Loss:431.68\n",
            "Validation Accuracy:81.89%\n"
          ]
        },
        {
          "output_type": "stream",
          "name": "stderr",
          "text": [
            "\r 30%|███       | 6/20 [01:15<02:57, 12.70s/it]"
          ]
        },
        {
          "output_type": "stream",
          "name": "stdout",
          "text": [
            "Epoch: 5\n",
            "Training Loss:360.58\n",
            "Validation Accuracy:81.54%\n"
          ]
        },
        {
          "output_type": "stream",
          "name": "stderr",
          "text": [
            "\r 35%|███▌      | 7/20 [01:29<02:48, 12.98s/it]"
          ]
        },
        {
          "output_type": "stream",
          "name": "stdout",
          "text": [
            "Epoch: 6\n",
            "Training Loss:305.2\n",
            "Validation Accuracy:81.93%\n"
          ]
        },
        {
          "output_type": "stream",
          "name": "stderr",
          "text": [
            "\r 40%|████      | 8/20 [01:42<02:38, 13.24s/it]"
          ]
        },
        {
          "output_type": "stream",
          "name": "stdout",
          "text": [
            "Epoch: 7\n",
            "Training Loss:267.99\n",
            "Validation Accuracy:82.06%\n"
          ]
        },
        {
          "output_type": "stream",
          "name": "stderr",
          "text": [
            "\r 45%|████▌     | 9/20 [01:55<02:24, 13.11s/it]"
          ]
        },
        {
          "output_type": "stream",
          "name": "stdout",
          "text": [
            "Epoch: 8\n",
            "Training Loss:235.4\n",
            "Validation Accuracy:81.89%\n"
          ]
        },
        {
          "output_type": "stream",
          "name": "stderr",
          "text": [
            "\r 50%|█████     | 10/20 [02:08<02:08, 12.90s/it]"
          ]
        },
        {
          "output_type": "stream",
          "name": "stdout",
          "text": [
            "Epoch: 9\n",
            "Training Loss:207.38\n",
            "Validation Accuracy:81.51%\n"
          ]
        },
        {
          "output_type": "stream",
          "name": "stderr",
          "text": [
            "\r 55%|█████▌    | 11/20 [02:20<01:55, 12.83s/it]"
          ]
        },
        {
          "output_type": "stream",
          "name": "stdout",
          "text": [
            "Epoch: 10\n",
            "Training Loss:181.57\n",
            "Validation Accuracy:80.91%\n"
          ]
        },
        {
          "output_type": "stream",
          "name": "stderr",
          "text": [
            "\r 60%|██████    | 12/20 [02:33<01:41, 12.69s/it]"
          ]
        },
        {
          "output_type": "stream",
          "name": "stdout",
          "text": [
            "Epoch: 11\n",
            "Training Loss:158.28\n",
            "Validation Accuracy:79.91%\n"
          ]
        },
        {
          "output_type": "stream",
          "name": "stderr",
          "text": [
            "\r 65%|██████▌   | 13/20 [02:45<01:28, 12.62s/it]"
          ]
        },
        {
          "output_type": "stream",
          "name": "stdout",
          "text": [
            "Epoch: 12\n",
            "Training Loss:140.04\n",
            "Validation Accuracy:79.14%\n"
          ]
        },
        {
          "output_type": "stream",
          "name": "stderr",
          "text": [
            "\r 70%|███████   | 14/20 [02:58<01:15, 12.59s/it]"
          ]
        },
        {
          "output_type": "stream",
          "name": "stdout",
          "text": [
            "Epoch: 13\n",
            "Training Loss:125.08\n",
            "Validation Accuracy:77.93%\n"
          ]
        },
        {
          "output_type": "stream",
          "name": "stderr",
          "text": [
            "\r 75%|███████▌  | 15/20 [03:10<01:02, 12.56s/it]"
          ]
        },
        {
          "output_type": "stream",
          "name": "stdout",
          "text": [
            "Epoch: 14\n",
            "Training Loss:106.87\n",
            "Validation Accuracy:77.24%\n"
          ]
        },
        {
          "output_type": "stream",
          "name": "stderr",
          "text": [
            "\r 80%|████████  | 16/20 [03:22<00:49, 12.50s/it]"
          ]
        },
        {
          "output_type": "stream",
          "name": "stdout",
          "text": [
            "Epoch: 15\n",
            "Training Loss:95.96\n",
            "Validation Accuracy:76.16%\n"
          ]
        },
        {
          "output_type": "stream",
          "name": "stderr",
          "text": [
            "\r 85%|████████▌ | 17/20 [03:35<00:37, 12.52s/it]"
          ]
        },
        {
          "output_type": "stream",
          "name": "stdout",
          "text": [
            "Epoch: 16\n",
            "Training Loss:83.88\n",
            "Validation Accuracy:75.06%\n"
          ]
        },
        {
          "output_type": "stream",
          "name": "stderr",
          "text": [
            "\r 90%|█████████ | 18/20 [03:47<00:24, 12.46s/it]"
          ]
        },
        {
          "output_type": "stream",
          "name": "stdout",
          "text": [
            "Epoch: 17\n",
            "Training Loss:76.77\n",
            "Validation Accuracy:74.28%\n"
          ]
        },
        {
          "output_type": "stream",
          "name": "stderr",
          "text": [
            "\r 95%|█████████▌| 19/20 [04:00<00:12, 12.52s/it]"
          ]
        },
        {
          "output_type": "stream",
          "name": "stdout",
          "text": [
            "Epoch: 18\n",
            "Training Loss:69.49\n",
            "Validation Accuracy:73.57%\n"
          ]
        },
        {
          "output_type": "stream",
          "name": "stderr",
          "text": [
            "100%|██████████| 20/20 [04:13<00:00, 12.67s/it]"
          ]
        },
        {
          "output_type": "stream",
          "name": "stdout",
          "text": [
            "Epoch: 19\n",
            "Training Loss:63.33\n",
            "Validation Accuracy:72.72%\n"
          ]
        },
        {
          "output_type": "stream",
          "name": "stderr",
          "text": [
            "\n"
          ]
        }
      ],
      "source": [
        "## TRAIN MODEL\n",
        "# Iterate over epochs, batches with progress bar and train+ validate the ACAIGFCN\n",
        "# Track the loss and validation accuracy\n",
        "for epoch in tqdm.trange(epochs):\n",
        "\n",
        "    # ACAIGFCN Training\n",
        "    for train_features, train_labels in train_batches:\n",
        "\n",
        "        # Transfer data to GPU memory\n",
        "        if torch.cuda.is_available():\n",
        "          train_features = train_features.cuda()\n",
        "          train_labels = train_labels.cuda()\n",
        "\n",
        "        # Set model into training mode\n",
        "        model.train()\n",
        "\n",
        "        # Reshape images into a vector\n",
        "        train_features = train_features.reshape(-1, 28*28)\n",
        "\n",
        "        # Reset gradients, Calculate training loss on model\n",
        "        optimizer.zero_grad()\n",
        "        train_outputs = model(train_features)\n",
        "        loss = loss_func(train_outputs, train_labels)\n",
        "        train_loss_list[epoch] += loss.item() / num_train_batches\n",
        "\n",
        "        # Perform optimization, back propagation\n",
        "        loss.backward()\n",
        "        optimizer.step()\n",
        "\n",
        "    # Record loss for the epoch (ALREADY DONE ABOVE)\n",
        "\n",
        "    # ACAIGFCN Validation\n",
        "    for val_features, val_labels in val_batches:\n",
        "\n",
        "        # Transfer data to GPU memory\n",
        "        if torch.cuda.is_available():\n",
        "          val_features = val_features.cuda()\n",
        "          val_labels = val_labels.cuda()\n",
        "\n",
        "        # Telling PyTorch we aren't passing inputs to network for training purpose\n",
        "        with torch.no_grad():\n",
        "            model.eval()\n",
        "\n",
        "            # Reshape validation images into a vector\n",
        "            val_features = val_features.reshape(-1, 28*28)\n",
        "\n",
        "            # Compute validation outputs (targets)\n",
        "            # and compute accuracy\n",
        "            val_outputs = model(val_features)\n",
        "            correct = (torch.argmax(val_outputs, dim = 1) == val_labels).type(torch.FloatTensor)\n",
        "            validation_accuracy_list[epoch] += correct.mean() / num_val_batches\n",
        "\n",
        "    # Record accuracy for the epoch; print training loss, validation accuracy\n",
        "    # print(\"Epoch: \"+ str(epoch) +\"; Validation Accuracy:\" + str(val_acc/num_val_batches*100) + '%')\n",
        "    print(\"Epoch: \"+ str(epoch))\n",
        "    print(\"Training Loss:\" + str(round(train_loss_list[epoch], 2)))\n",
        "    print(\"Validation Accuracy:\" + str(round(validation_accuracy_list[epoch] * 100, 2)) + '%')"
      ]
    },
    {
      "cell_type": "code",
      "execution_count": 144,
      "metadata": {
        "colab": {
          "base_uri": "https://localhost:8080/"
        },
        "id": "ij4fjmJ9R7SR",
        "outputId": "2597b344-ef08-46b4-974c-16711ab453ad"
      },
      "outputs": [
        {
          "output_type": "stream",
          "name": "stdout",
          "text": [
            "Testing Accuracy: 72.41%\n",
            "Standard Deviation: 3.22%\n"
          ]
        }
      ],
      "source": [
        "## TESTING\n",
        "# Calculate accuracy on test set\n",
        "test_accuracy = 0\n",
        "batch_acc = np.zeros(num_test_batches)\n",
        "k = 0\n",
        "\n",
        "# Telling PyTorch we aren't passing inputs to network for training purpose\n",
        "with torch.no_grad():\n",
        "\n",
        "    for test_features, test_labels in test_batches:\n",
        "\n",
        "        # Transfer data to GPU memory\n",
        "        if torch.cuda.is_available():\n",
        "          test_features = test_features.cuda()\n",
        "          test_labels = test_labels.cuda()\n",
        "\n",
        "        model.eval()\n",
        "        # Reshape test images into a vector\n",
        "        test_features = test_features.reshape(-1, 28*28)\n",
        "\n",
        "        # Compute validation outputs (targets)\n",
        "        # and compute accuracy\n",
        "        test_preds = model(test_features)\n",
        "        correct = (torch.argmax(test_preds, dim = 1) == test_labels).type(torch.FloatTensor)\n",
        "        test_accuracy += correct.mean() / num_test_batches\n",
        "        batch_acc[k] = correct.mean().numpy()\n",
        "        k += 1\n",
        "\n",
        "\n",
        "    # Compute total (mean) accuracy\n",
        "    # Report total (mean) accuracy, can also compute std based on batches\n",
        "    print(\"Testing Accuracy: \" + str(round(test_accuracy.numpy() * 100, 2)) + '%')\n",
        "    print(\"Standard Deviation: \" + str(round(batch_acc.std() * 100, 2)) + '%')"
      ]
    },
    {
      "cell_type": "code",
      "source": [
        "# random_normal_train = train_loss_list\n",
        "# random_normal_val = validation_accuracy_list"
      ],
      "metadata": {
        "id": "uqbWPxa7yfAT"
      },
      "execution_count": 147,
      "outputs": []
    },
    {
      "cell_type": "code",
      "execution_count": 162,
      "metadata": {
        "colab": {
          "base_uri": "https://localhost:8080/",
          "height": 600
        },
        "id": "iu1owfQ-R7SR",
        "outputId": "7cb0777d-3c81-4a1e-b706-d45a74008c28"
      },
      "outputs": [
        {
          "output_type": "display_data",
          "data": {
            "text/plain": [
              "<Figure size 1200x600 with 2 Axes>"
            ],
            "image/png": "[encoded data removed]"
          },
          "metadata": {}
        }
      ],
      "source": [
        "## VISUALIZATION\n",
        "trial_no = 3\n",
        "# Plot training loss and validation accuracy throughout the training epochs\n",
        "import seaborn as sns\n",
        "sns.set(style = 'whitegrid', font_scale = 1.5)\n",
        "\n",
        "plt.figure(figsize = (12, 6))\n",
        "\n",
        "plt.subplot(2, 1, 1)\n",
        "plt.plot(train_loss_list, linewidth = 3)\n",
        "plt.ylabel(\"training loss\")\n",
        "# plt.title(\"Trial \" + str(trial_no), fontsize = 26)\n",
        "plt.title(\"Random Normal Initialization\", fontsize = 26)\n",
        "plt.tick_params(axis = 'x', labelbottom = False)\n",
        "# plt.tick_params(\n",
        "#     axis='x',          # changes apply to the x-axis\n",
        "#     which='both',      # both major and minor ticks are affected\n",
        "#     bottom=False,      # ticks along the bottom edge are off\n",
        "#     top=False,         # ticks along the top edge are off\n",
        "#     labelbottom=False)\n",
        "\n",
        "plt.subplot(2, 1, 2)\n",
        "plt.plot(validation_accuracy_list, linewidth = 3, color = 'gold', zorder = 0, label = \"validation\")\n",
        "plt.ylabel(\"accuracy\")\n",
        "plt.yticks(np.linspace(0, 1, 21))\n",
        "plt.xlabel(\"epochs\")\n",
        "plt.errorbar(epochs - 1, test_accuracy.numpy(), batch_acc.std(), c = 'red', fmt = '-x', markersize = 12, linewidth = 1.5, zorder = 10, label = 'testing')\n",
        "# plt.axhline(0.85, c = 'grey', linewidth = 1, linestyle = '--', zorder = 5, label = \"85%\")\n",
        "plt.legend(loc = 'upper right')\n",
        "\n",
        "sns.despine()"
      ]
    },
    {
      "cell_type": "code",
      "source": [
        "plt.figure(figsize = (11, 12))\n",
        "\n",
        "plt.subplot(2, 1, 1)\n",
        "plt.errorbar([0, 0.2, 0.4], [89.6, 89.9, 89.6], [2.0, 2.0, 2.3], c = 'blue', fmt = '-o', markersize = 12, linewidth = 1.5, zorder = 10, label = 'testing')\n",
        "plt.xlabel(\"$p$\")\n",
        "plt.ylabel(\"testing accuracy\")\n",
        "plt.title(\"Dropout Regularization\")\n",
        "plt.show()"
      ],
      "metadata": {
        "colab": {
          "base_uri": "https://localhost:8080/",
          "height": 550
        },
        "id": "7ZjZE-tIZny8",
        "outputId": "1e23d666-da04-4fe5-eb00-4129128ae51d"
      },
      "execution_count": 160,
      "outputs": [
        {
          "output_type": "display_data",
          "data": {
            "text/plain": [
              "<Figure size 1100x1200 with 1 Axes>"
            ],
            "image/png": "[encoded data removed]"
          },
          "metadata": {}
        }
      ]
    }
  ],
  "metadata": {
    "accelerator": "GPU",
    "colab": {
      "collapsed_sections": [
        "EM6GQLv6j5uH"
      ],
      "gpuType": "T4",
      "provenance": []
    },
    "kernelspec": {
      "display_name": "Python 3",
      "name": "python3"
    },
    "language_info": {
      "codemirror_mode": {
        "name": "ipython",
        "version": 3
      },
      "file_extension": ".py",
      "mimetype": "text/x-python",
      "name": "python",
      "nbconvert_exporter": "python",
      "pygments_lexer": "ipython3",
      "version": "3.10.4"
    }
  },
  "nbformat": 4,
  "nbformat_minor": 0
}
